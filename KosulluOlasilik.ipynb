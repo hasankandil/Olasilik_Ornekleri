{
  "nbformat": 4,
  "nbformat_minor": 0,
  "metadata": {
    "colab": {
      "name": "Untitled1.ipynb",
      "provenance": [],
      "authorship_tag": "ABX9TyMWsjz5dDk++sO9Gpa+YAbB",
      "include_colab_link": true
    },
    "kernelspec": {
      "name": "python3",
      "display_name": "Python 3"
    },
    "language_info": {
      "name": "python"
    }
  },
  "cells": [
    {
      "cell_type": "markdown",
      "metadata": {
        "id": "view-in-github",
        "colab_type": "text"
      },
      "source": [
        "<a href=\"https://colab.research.google.com/github/hasankandil/Olasilik_Ornekleri/blob/main/KosulluOlasilik.ipynb\" target=\"_parent\"><img src=\"https://colab.research.google.com/assets/colab-badge.svg\" alt=\"Open In Colab\"/></a>"
      ]
    },
    {
      "cell_type": "markdown",
      "metadata": {
        "id": "ORQa2h_XO-DC"
      },
      "source": [
        "Bir kutuda 10 beyaz, 12 kırmızı ve 8 yeşil top bulunur. Çekilen top geri bırakılmak şartıyle 3 top çekiliyor.  \n",
        "Çekilen topların 3.ünde aynı renkte olma olasılığı nedir ?\n",
        "\n",
        "Örnek uzayımız 30x30x30 = 27.000\n",
        "Üçününde beyaz gelme durumu => 10x10x10 = 1000\n",
        "Üçününde kırmızı gelme durumu => 12x12x12 = 1728\n",
        "Üçününde yeşil gelme durumu => 8x8x8 = 512\n",
        "\n",
        "Toplam => 100+1728+512 = 3240\n",
        "\n",
        "Olasılık => 3240/27000 = 0.12"
      ]
    },
    {
      "cell_type": "code",
      "metadata": {
        "colab": {
          "base_uri": "https://localhost:8080/"
        },
        "id": "NgDrISXu8PXP",
        "outputId": "86a92eec-9073-4719-886b-d6f3cb3e0cbe"
      },
      "source": [
        "import numpy as np\n",
        "import random\n",
        "\n",
        "d = {}\n",
        "for i in range(30):\n",
        "  if i<10:\n",
        "    d[i] = 'white'\n",
        "  elif i>9 and i<22:\n",
        "    d[i] = 'red'\n",
        "  else:\n",
        "    d[i] = 'green'\n",
        "\n",
        "n_simulations = 100000\n",
        "total = 0\n",
        "\n",
        "for i in range(n_simulations):\n",
        "  list = []\n",
        "  for i in range(3):\n",
        "    list.append(d[random.randint(0, 29)])\n",
        "\n",
        "  list = np.array(list)\n",
        "\n",
        "  white = sum(list == 'white')\n",
        "  red = sum(list == 'red')\n",
        "  green = sum(list == 'green')\n",
        "\n",
        "  if white == 3 or red == 3 or green == 3:\n",
        "    total +=1\n",
        "  \n",
        "print ('Aynı renkte olma olasılığı : ', total/n_simulations)\n",
        "      \n",
        "       "
      ],
      "execution_count": 69,
      "outputs": [
        {
          "output_type": "stream",
          "text": [
            "Aynı renkte olma olasılığı :  0.12134\n"
          ],
          "name": "stdout"
        }
      ]
    }
  ]
}