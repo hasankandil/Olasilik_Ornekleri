{
  "nbformat": 4,
  "nbformat_minor": 0,
  "metadata": {
    "colab": {
      "name": "Untitled2.ipynb",
      "provenance": [],
      "authorship_tag": "ABX9TyNy9lySo2XIfPnYC8T3vpjc",
      "include_colab_link": true
    },
    "kernelspec": {
      "name": "python3",
      "display_name": "Python 3"
    },
    "language_info": {
      "name": "python"
    }
  },
  "cells": [
    {
      "cell_type": "markdown",
      "metadata": {
        "id": "view-in-github",
        "colab_type": "text"
      },
      "source": [
        "<a href=\"https://colab.research.google.com/github/hasankandil/Olasilik_Ornekleri/blob/main/PMFOrnegi.ipynb\" target=\"_parent\"><img src=\"https://colab.research.google.com/assets/colab-badge.svg\" alt=\"Open In Colab\"/></a>"
      ]
    },
    {
      "cell_type": "markdown",
      "metadata": {
        "id": "L91bYaZ10bZo"
      },
      "source": [
        "İki zar havaya atılıyor. Üst yüze gelen sayılarının toplamının 2, 3, 4, 5, 6, 7, 8, 9, 10, 11, 12 gelme olasığı nedir ?\n",
        "\n",
        "\n",
        "*   2 gelme olasılığı = 1/36 \n",
        "*   3 gelme olasılığı = 2/36 \n",
        "*   4 gelme olasılığı = 3/36 \n",
        "*   5 gelme olasılığı = 4/36 \n",
        "*   6 gelme olasılığı = 5/36 \n",
        "*   7 gelme olasılığı = 6/36 \n",
        "*   8 gelme olasılığı = 5/36 \n",
        "*   9 gelme olasılığı = 4/36 \n",
        "*   10 gelme olasılığı = 3/36 \n",
        "*   11 gelme olasılığı = 2/36 \n",
        "*   12 gelme olasılığı = 1/36\n"
      ]
    },
    {
      "cell_type": "code",
      "metadata": {
        "colab": {
          "base_uri": "https://localhost:8080/",
          "height": 295
        },
        "id": "9sb9v6CyqKbP",
        "outputId": "8e19032f-e270-4bc9-ab03-cdc451cd4433"
      },
      "source": [
        "n_simulations = 10000\n",
        "results = np.zeros(n_simulations)\n",
        "for i in range(n_simulations):\n",
        "    total = random.randint(1, 6) + random.randint(1, 6)\n",
        "    results[i] = total\n",
        "\n",
        "n = cnt / n_simulations\n",
        "\n",
        "plt.bar(range(2,13), n)\n",
        "plt.title(\"Poisson Olasilik Kutle Fonksiyonu\")\n",
        "plt.ylabel(\"Olasılık\")\n",
        "plt.xlabel(\"Sonuç\")\n",
        "plt.show()"
      ],
      "execution_count": 86,
      "outputs": [
        {
          "output_type": "display_data",
          "data": {
            "image/png": "[encoded data removed]",
            "text/plain": [
              "<Figure size 432x288 with 1 Axes>"
            ]
          },
          "metadata": {
            "tags": [],
            "needs_background": "light"
          }
        }
      ]
    }
  ]
}